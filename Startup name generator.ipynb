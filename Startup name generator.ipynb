!curl https://raw.githubusercontent.com/Akwalangas/name_generator/master/business.txt -o business.txt

business_terms = open("business.txt")
business = business_terms.read().splitlines()
business_terms.close()

!curl https://raw.githubusercontent.com/Akwalangas/name_generator/master/some_list.txt -o some_list.txt

random_words_list = open("some_list.txt")
some_list = random_words_list.read().splitlines()
random_words_list.close()

import random
name = input("what's your name? ")
def name_letter(name):
    words_from_name_letter = []
    if not name.isalpha():
        print("I bet that is not your name")
        return name_letter()
    else:
        name = name[0::2]
        name = name.upper()
    for i in name:
        for word in some_list:
            if word.startswith(i):
                words_from_name_letter.append(word)
    random_word = random.choice(words_from_name_letter)
    return random_word

age = input("how old are you? ")
if age.isdigit():
    age = int(age)
else:
    age = int(input("please provide a number: "))
while (age < 5 or age > 90):
    age = int(input("hold old are you? "))

business_list_lenght = len(business)
def first_word(age):     
    random.seed( age )
    some_random_number = random.randint(0, business_list_lenght)
    xyz = business[some_random_number]
    return xyz
first_word(age)

def merge_words():
    random_word = name_letter(name)
    first_words = first_word(age)
    print("Here is a Startup name for you:", first_words, random_word)
    
merge_words()

answer = input("do you like it? ")
if answer == "no":
    first_name_word = random.choice(business)
    second_name_word = random.choice(some_list)
    class kazkas:
        def __init__(self, first, second):
            self.first = first
            self.second = second
            
        def merge(self):
            print(self.first + " " + self.second)
            answer = input("how about now?")
            if answer == "no":
                color = {"red": "", "blue": "", "yellow": "", "green": "", "pink": "", "black": "", "white": ""}
                for key in color:
                    random_business_word_term = random.choice(business)
                    random_simple_word = random.choice(some_list)
                    value = random_business_word_term + " " + random_simple_word
                    color[key] = value
                answer = input("Ok, let's do it differently. What is your favorite color?")
                if answer not in color:
                    print("sorry, can't help you")
                print("According to your favorite color, your startup name should be:", color.get(answer))
            else:
                print("Cool. Good luck with your startup")
                
    r = kazkas(first_name_word, second_name_word)
    r.merge()
 
else:
    print("Cool. Good luck with your startup")


