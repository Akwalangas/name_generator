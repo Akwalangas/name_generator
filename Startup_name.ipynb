{
  "nbformat": 4,
  "nbformat_minor": 0,
  "metadata": {
    "colab": {
      "name": "Startup name.ipynb",
      "version": "0.3.2",
      "provenance": []
    },
    "kernelspec": {
      "name": "python3",
      "display_name": "Python 3"
    }
  },
  "cells": [
    {
      "metadata": {
        "id": "0MQ90XZMcHbX",
        "colab_type": "code",
        "colab": {}
      },
      "cell_type": "code",
      "source": [
        "!curl https://raw.githubusercontent.com/Akwalangas/name_generator/master/business.txt -o business.txt"
      ],
      "execution_count": 0,
      "outputs": []
    },
    {
      "metadata": {
        "id": "Xd9A8mIqcLZl",
        "colab_type": "code",
        "colab": {}
      },
      "cell_type": "code",
      "source": [
        "business_terms = open(\"business.txt\")\n",
        "business = business_terms.read().splitlines()\n",
        "business_terms.close()"
      ],
      "execution_count": 0,
      "outputs": []
    },
    {
      "metadata": {
        "id": "rYLGLxedcM0n",
        "colab_type": "code",
        "colab": {}
      },
      "cell_type": "code",
      "source": [
        "!curl https://raw.githubusercontent.com/Akwalangas/name_generator/master/some_list.txt -o some_list.txt"
      ],
      "execution_count": 0,
      "outputs": []
    },
    {
      "metadata": {
        "id": "RNVgrKVgcOMV",
        "colab_type": "code",
        "colab": {}
      },
      "cell_type": "code",
      "source": [
        "random_words_list = open(\"some_list.txt\")\n",
        "some_list = random_words_list.read().splitlines()\n",
        "random_words_list.close()"
      ],
      "execution_count": 0,
      "outputs": []
    },
    {
      "metadata": {
        "id": "jMYuGZszcP7n",
        "colab_type": "code",
        "colab": {}
      },
      "cell_type": "code",
      "source": [
        "import random\n",
        "name = input(\"what's your name? \")\n",
        "def name_letter(name):\n",
        "    words_from_name_letter = []\n",
        "    if not name.isalpha():\n",
        "        print(\"I bet that is not your name\")\n",
        "        return name_letter()\n",
        "    else:\n",
        "        name = name[0::2]\n",
        "        name = name.upper()\n",
        "    for i in name:\n",
        "        for word in some_list:\n",
        "            if word.startswith(i):\n",
        "                words_from_name_letter.append(word)\n",
        "    random_word = random.choice(words_from_name_letter)\n",
        "    return random_word\n",
        "\n",
        "age = input(\"how old are you? \")\n",
        "if age.isdigit():\n",
        "    age = int(age)\n",
        "else:\n",
        "    age = int(input(\"please provide a number: \"))\n",
        "while (age < 5 or age > 90):\n",
        "    age = int(input(\"hold old are you? \"))\n",
        "\n",
        "business_list_lenght = len(business)\n",
        "def first_word(age):     \n",
        "    random.seed( age )\n",
        "    some_random_number = random.randint(0, business_list_lenght)\n",
        "    xyz = business[some_random_number]\n",
        "    return xyz\n",
        "first_word(age)\n",
        "\n",
        "def merge_words():\n",
        "    random_word = name_letter(name)\n",
        "    first_words = first_word(age)\n",
        "    print(\"Here is a Startup name for you:\", first_words, random_word)\n",
        "    \n",
        "merge_words()\n",
        "\n",
        "answer = input(\"do you like it? \")\n",
        "if answer == \"no\":\n",
        "    first_name_word = random.choice(business)\n",
        "    second_name_word = random.choice(some_list)\n",
        "    class kazkas:\n",
        "        def __init__(self, first, second):\n",
        "            self.first = first\n",
        "            self.second = second\n",
        "            \n",
        "        def merge(self):\n",
        "            print(self.first + \" \" + self.second)\n",
        "            answer = input(\"how about now?\")\n",
        "            if answer == \"no\":\n",
        "                color = {\"red\": \"\", \"blue\": \"\", \"yellow\": \"\", \"green\": \"\", \"pink\": \"\", \"black\": \"\", \"white\": \"\"}\n",
        "                for key in color:\n",
        "                    random_business_word_term = random.choice(business)\n",
        "                    random_simple_word = random.choice(some_list)\n",
        "                    value = random_business_word_term + \" \" + random_simple_word\n",
        "                    color[key] = value\n",
        "                answer = input(\"Ok, let's do it differently. What is your favorite color?\")\n",
        "                if answer not in color:\n",
        "                    print(\"sorry, can't help you\")\n",
        "                print(\"According to your favorite color, your startup name should be:\", color.get(answer))\n",
        "            else:\n",
        "                print(\"Cool. Good luck with your startup\")\n",
        "                \n",
        "    r = kazkas(first_name_word, second_name_word)\n",
        "    r.merge()\n",
        " \n",
        "else:\n",
        "    print(\"Cool. Good luck with your startup\")\n",
        "\n",
        "\n"
      ],
      "execution_count": 0,
      "outputs": []
    }
  ]
}