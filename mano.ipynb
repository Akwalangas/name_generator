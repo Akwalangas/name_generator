#Final

business_terms = ["Analytics", "Ballpark figure", "Bandwidth", "B2B", "B2C", "Best of Breed", "Best practices", "Bizmeth", "Brand", "Brick-and-mortar", "Business process outsourcing", "Buzzword compliant", "Building capabilities", "Cadence", "Client-centric", "Cloud computing", "Close the loop", "Co-opetition", "Come-to-Jesus moment", "Content marketing", "Core competency", "Creative", "Customer-centric", "Downsizing", "Drill down", "Drinking the Kool-Aid", "Early-stage", "Employer branding", "Eating your own dogfood", "Enable", "Entitlement", "Enterprise", "Event horizon", "Eyeballs", "Free", "Free value", "Fulfilment issues", "Generation Y", "Granular", "Herding cats", "Holistic", "Blockchain", "Hyperlocal", "Innovation", "Innovative", "Knowledge Process Outsourcing", "Leverage", "Logistics", "Long Tail", "Low Hanging Fruit", "Make it pop", "Mindshare", "Mission Critical", "Management Visibility", "New economy", "Next generation", "Offshoring", "Opportunities", "Pain point", "Paralysis by Analysis", "Passionate", "Productivity", "Profit center", "Quick win", "Return on Investment", "Reverse fulfilment", "Rightshoring", "Seamless", "Serum", "Share options", "Solution", "SOX", "Sustainability", "Storytelling", "Startup", "Take Offline", "Talent Relationship Management", "Tiger team", "Touchpoint", "Value-added", "Visibility", "Water under the bridge"]

def age_num():
    age = input("hold old are you? ")
    if age.isdigit():
        age = int(age)
        if age < 5:
            print("you can't be that young.")
            age_num()
        if age > 90:
            answer = input("are you really that old? (yes/no)")
            if answer == "no":
                age_num()
            elif answer == "yes":
                print("cool")
                return age
            else:
                print("I can not understand you")
        else:
            return age
    else:
        print("Please provide a number ")
        age_num()
            
                      
def age_sum():            
    empty_num = []
    age = age_num()
    age = str(age) 
    some_random_number = random.randint(1, 65)
    if len(age) > 1:
        x = int(age[0]) + int(age[1]) + some_random_number 
        print(x)
        first_word = business_terms[x]
        return first_word
    else:
        print(age)
        age = int(age)
        first_word = business_terms[age]
        return first_word
    
import random
some_list = ["Adult", "Aeroplane", "Air", "Aircraft Carrier", "Airforce", "Airport", "Album", "Alphabet", "Apple", "Arm", "Army", "Baby", "Backpack", "Balloon", "Banana", "Bank", "Barbecue", "Bathroom", "Bathtub", "Bed", "Bed", "Bee", "Bible", "Bible", "Bird", "Bomb", "Book", "Boss", "Bottle", "Bowl", "Box", "Boy", "Brain", "Bridge", "Butterfly", "Button", "Cappuccino", "Car", "Car-race", "Carpet", "Carrot", "Cave", "Chair", "Chess Board", "Chief", "Child", "Chisel", "Chocolates", "Church", "Circle", "Circus", "Clock","Clown", "Coffee", "Coffee-shop", "Comet", "Compact Disc", "Compass", "Computer", "Crystal", "Cup", "Cycle", "Data Base", "Desk", "Diamond", "Dress", "Drill", "Drink", "Drum", "Dung", "Ears", "Earth", "Egg", "Electricity", "Elephant", "Eraser", "Explosive", "Eyes", "Family", "Fan", "Feather", "Festival", "Film", "Finger", "Fire", "Floodlight", "Flower", "Foot", "Fork", "Freeway", "Fruit", "Fungus", "Game", "Garden", "Gas", "Gate", "Gemstone", "Girl", "Gloves", "God", "Grapes", "Guitar", "Hammer", "Hat", "Hieroglyph", "Highway", "Horoscope", "Horse", "Hose", "Ice", "Ice-cream", "Insect", "Jet fighter", "Junk", "Kaleidoscope", "Kitchen", "Knife", "Leather jacket", "Leg", "Library", "Liquid", "Magnet", "Man", "Map", "Maze", "Meat", "Meteor", "Microscope", "Milk", "Milkshake", "Mist", "Money $$$$", "Monster", "Mosquito", "Mouth", "Nail", "Navy", "Necklace", "Needle", "Onion", "PaintBrush", "Pants", "Parachute", "Passport", "Pebble", "Pendulum", "Pepper", "Perfume", "Pillow", "Plane", "Planet", "Pocket", "Post-office", "Potato", "Printer", "Prison", "Pyramid", "Radar", "Rainbow", "Record", "Restaurant", "Rifle", "Ring", "Robot", "Rock", "Rocket", "Roof", "Room", "Rope", "Saddle", "Salt", "Sandpaper", "Sandwich", "Satellite", "School", "Sex", "Ship", "Shoes", "Shop", "Shower", "Signature", "Skeleton", "Slave", "Snail", "Software", "Solid", "Space Shuttle", "Spectrum", "Sphere", "Spice", "Spiral", "Spoon", "Sports-car", "Spot Light", "Square", "Staircase", "Star", "Stomach", "Sun", "Sunglasses", "Surveyor", "Swimming Pool", "Sword", "Table", "Tapestry", "Teeth", "Telescope", "Television", "Tennis racquet", "Thermometer", "Tiger", "Toilet", "Tongue", "Torch", "Torpedo", "Train", "Treadmill", "Triangle", "Tunnel", "Typewriter", "Umbrella", "Vacuum", "Vampire", "Videotape", "Vulture", "Water", "Weapon", "Web", "Wheelchair", "Window", "Woman", "Worm", "X-ray"] 
def name_letter():
    new_list = []
    name = input("what's your name? ")
    if not name.isalpha():
        print("I bet that is not your name")
        return name_letter()
    else:
        name = name[0::2]
        name = name.upper()
    for i in name:
        for word in some_list:
            if word.startswith(i):
                new_list.append(word)
    print(new_list)
    random_word = random.choice(new_list)
    return random_word
                        

def merge():
    random_word = name_letter()
    first_word = age_sum()
    print(first_word, random_word)
    another_answer = input("Are you happy with your name?(yes/no) ")
    if another_answer == "yes":
        print("good luck with your startup")
    else:
        some_list = ["Adult", "Aeroplane", "Air", "Aircraft Carrier", "Airforce", "Airport", "Album", "Alphabet", "Apple", "Arm", "Army", "Baby", "Backpack", "Balloon", "Banana", "Bank", "Barbecue", "Bathroom", "Bathtub", "Bed", "Bed", "Bee", "Bible", "Bible", "Bird", "Bomb", "Book", "Boss", "Bottle", "Bowl", "Box", "Boy", "Brain", "Bridge", "Butterfly", "Button", "Cappuccino", "Car", "Car-race", "Carpet", "Carrot", "Cave", "Chair", "Chess Board", "Chief", "Child", "Chisel", "Chocolates", "Church", "Circle", "Circus", "Clock","Clown", "Coffee", "Coffee-shop", "Comet", "Compact Disc", "Compass", "Computer", "Crystal", "Cup", "Cycle", "Data Base", "Desk", "Diamond", "Dress", "Drill", "Drink", "Drum", "Dung", "Ears", "Earth", "Egg", "Electricity", "Elephant", "Eraser", "Explosive", "Eyes", "Family", "Fan", "Feather", "Festival", "Film", "Finger", "Fire", "Floodlight", "Flower", "Foot", "Fork", "Freeway", "Fruit", "Fungus", "Game", "Garden", "Gas", "Gate", "Gemstone", "Girl", "Gloves", "God", "Grapes", "Guitar", "Hammer", "Hat", "Hieroglyph", "Highway", "Horoscope", "Horse", "Hose", "Ice", "Ice-cream", "Insect", "Jet fighter", "Junk", "Kaleidoscope", "Kitchen", "Knife", "Leather jacket", "Leg", "Library", "Liquid", "Magnet", "Man", "Map", "Maze", "Meat", "Meteor", "Microscope", "Milk", "Milkshake", "Mist", "Money $$$$", "Monster", "Mosquito", "Mouth", "Nail", "Navy", "Necklace", "Needle", "Onion", "PaintBrush", "Pants", "Parachute", "Passport", "Pebble", "Pendulum", "Pepper", "Perfume", "Pillow", "Plane", "Planet", "Pocket", "Post-office", "Potato", "Printer", "Prison", "Pyramid", "Radar", "Rainbow", "Record", "Restaurant", "Rifle", "Ring", "Robot", "Rock", "Rocket", "Roof", "Room", "Rope", "Saddle", "Salt", "Sandpaper", "Sandwich", "Satellite", "School", "Sex", "Ship", "Shoes", "Shop", "Shower", "Signature", "Skeleton", "Slave", "Snail", "Software", "Solid", "Space Shuttle", "Spectrum", "Sphere", "Spice", "Spiral", "Spoon", "Sports-car", "Spot Light", "Square", "Staircase", "Star", "Stomach", "Sun", "Sunglasses", "Surveyor", "Swimming Pool", "Sword", "Table", "Tapestry", "Teeth", "Telescope", "Television", "Tennis racquet", "Thermometer", "Tiger", "Toilet", "Tongue", "Torch", "Torpedo", "Train", "Treadmill", "Triangle", "Tunnel", "Typewriter", "Umbrella", "Vacuum", "Vampire", "Videotape", "Vulture", "Water", "Weapon", "Web", "Wheelchair", "Window", "Woman", "Worm", "X-ray"] 
        business_terms = ["Analytics", "Ballpark figure", "Bandwidth", "B2B", "B2C", "Best of Breed", "Best practices", "Bizmeth", "Brand", "Brick-and-mortar", "Business process outsourcing", "Buzzword compliant", "Building capabilities", "Cadence", "Client-centric", "Cloud computing", "Close the loop", "Co-opetition", "Come-to-Jesus moment", "Content marketing", "Core competency", "Creative", "Customer-centric", "Downsizing", "Drill down", "Drinking the Kool-Aid", "Early-stage", "Employer branding", "Eating your own dogfood", "Enable", "Entitlement", "Enterprise", "Event horizon", "Eyeballs", "Free", "Free value", "Fulfilment issues", "Generation Y", "Granular", "Herding cats", "Holistic", "Blockchain", "Hyperlocal", "Innovation", "Innovative", "Knowledge Process Outsourcing", "Leverage", "Logistics", "Long Tail", "Low Hanging Fruit", "Make it pop", "Mindshare", "Mission Critical", "Management Visibility", "New economy", "Next generation", "Offshoring", "Opportunities", "Pain point", "Paralysis by Analysis", "Passionate", "Productivity", "Profit center", "Quick win", "Return on Investment", "Reverse fulfilment", "Rightshoring", "Seamless", "Serum", "Share options", "Solution", "SOX", "Sustainability", "Storytelling", "Startup", "Take Offline", "Talent Relationship Management", "Tiger team", "Touchpoint", "Value-added", "Visibility", "Water under the bridge"]
        import random
        def five_names():
            print("Ok, here five more for you: ")
            counter = 0
            while counter < 5:
                f_word = random.choice(business_terms)
                s_word = random.choice(some_list)
                print(f_word, s_word)
                counter += 1

        five_names()
merge() 